{
 "cells": [
  {
   "cell_type": "code",
   "execution_count": 1,
   "id": "d610ff61",
   "metadata": {
    "execution": {
     "iopub.execute_input": "2021-09-07T19:45:17.022860Z",
     "iopub.status.busy": "2021-09-07T19:45:17.022163Z",
     "iopub.status.idle": "2021-09-07T19:45:18.181688Z",
     "shell.execute_reply": "2021-09-07T19:45:18.180915Z",
     "shell.execute_reply.started": "2021-09-07T19:42:57.421503Z"
    },
    "papermill": {
     "duration": 1.189103,
     "end_time": "2021-09-07T19:45:18.181856",
     "exception": false,
     "start_time": "2021-09-07T19:45:16.992753",
     "status": "completed"
    },
    "tags": []
   },
   "outputs": [],
   "source": [
    "import pandas as pd\n",
    "import numpy as np\n",
    "from sklearn.preprocessing import LabelEncoder\n",
    "from sklearn.preprocessing import MinMaxScaler\n",
    "from sklearn.model_selection import train_test_split\n",
    "from sklearn.ensemble import RandomForestRegressor\n",
    "from sklearn.tree import DecisionTreeRegressor\n",
    "from sklearn.metrics import mean_squared_error\n"
   ]
  },
  {
   "cell_type": "code",
   "execution_count": 2,
   "id": "698ed0d9",
   "metadata": {
    "execution": {
     "iopub.execute_input": "2021-09-07T19:45:18.220617Z",
     "iopub.status.busy": "2021-09-07T19:45:18.219975Z",
     "iopub.status.idle": "2021-09-07T19:45:18.291167Z",
     "shell.execute_reply": "2021-09-07T19:45:18.291634Z",
     "shell.execute_reply.started": "2021-09-07T19:29:22.091723Z"
    },
    "papermill": {
     "duration": 0.092951,
     "end_time": "2021-09-07T19:45:18.291816",
     "exception": false,
     "start_time": "2021-09-07T19:45:18.198865",
     "status": "completed"
    },
    "tags": []
   },
   "outputs": [
    {
     "data": {
      "text/html": [
       "<div>\n",
       "<style scoped>\n",
       "    .dataframe tbody tr th:only-of-type {\n",
       "        vertical-align: middle;\n",
       "    }\n",
       "\n",
       "    .dataframe tbody tr th {\n",
       "        vertical-align: top;\n",
       "    }\n",
       "\n",
       "    .dataframe thead th {\n",
       "        text-align: right;\n",
       "    }\n",
       "</style>\n",
       "<table border=\"1\" class=\"dataframe\">\n",
       "  <thead>\n",
       "    <tr style=\"text-align: right;\">\n",
       "      <th></th>\n",
       "      <th>model</th>\n",
       "      <th>year</th>\n",
       "      <th>price</th>\n",
       "      <th>transmission</th>\n",
       "      <th>mileage</th>\n",
       "      <th>fuelType</th>\n",
       "      <th>tax</th>\n",
       "      <th>mpg</th>\n",
       "      <th>engineSize</th>\n",
       "    </tr>\n",
       "  </thead>\n",
       "  <tbody>\n",
       "    <tr>\n",
       "      <th>0</th>\n",
       "      <td>SLK</td>\n",
       "      <td>2005</td>\n",
       "      <td>5200</td>\n",
       "      <td>Automatic</td>\n",
       "      <td>63000</td>\n",
       "      <td>Petrol</td>\n",
       "      <td>325</td>\n",
       "      <td>32.1</td>\n",
       "      <td>1.8</td>\n",
       "    </tr>\n",
       "    <tr>\n",
       "      <th>1</th>\n",
       "      <td>S Class</td>\n",
       "      <td>2017</td>\n",
       "      <td>34948</td>\n",
       "      <td>Automatic</td>\n",
       "      <td>27000</td>\n",
       "      <td>Hybrid</td>\n",
       "      <td>20</td>\n",
       "      <td>61.4</td>\n",
       "      <td>2.1</td>\n",
       "    </tr>\n",
       "    <tr>\n",
       "      <th>2</th>\n",
       "      <td>SL CLASS</td>\n",
       "      <td>2016</td>\n",
       "      <td>49948</td>\n",
       "      <td>Automatic</td>\n",
       "      <td>6200</td>\n",
       "      <td>Petrol</td>\n",
       "      <td>555</td>\n",
       "      <td>28.0</td>\n",
       "      <td>5.5</td>\n",
       "    </tr>\n",
       "    <tr>\n",
       "      <th>3</th>\n",
       "      <td>G Class</td>\n",
       "      <td>2016</td>\n",
       "      <td>61948</td>\n",
       "      <td>Automatic</td>\n",
       "      <td>16000</td>\n",
       "      <td>Petrol</td>\n",
       "      <td>325</td>\n",
       "      <td>30.4</td>\n",
       "      <td>4.0</td>\n",
       "    </tr>\n",
       "    <tr>\n",
       "      <th>4</th>\n",
       "      <td>G Class</td>\n",
       "      <td>2016</td>\n",
       "      <td>73948</td>\n",
       "      <td>Automatic</td>\n",
       "      <td>4000</td>\n",
       "      <td>Petrol</td>\n",
       "      <td>325</td>\n",
       "      <td>30.1</td>\n",
       "      <td>4.0</td>\n",
       "    </tr>\n",
       "  </tbody>\n",
       "</table>\n",
       "</div>"
      ],
      "text/plain": [
       "       model  year  price transmission  mileage fuelType  tax   mpg  \\\n",
       "0        SLK  2005   5200    Automatic    63000   Petrol  325  32.1   \n",
       "1    S Class  2017  34948    Automatic    27000   Hybrid   20  61.4   \n",
       "2   SL CLASS  2016  49948    Automatic     6200   Petrol  555  28.0   \n",
       "3    G Class  2016  61948    Automatic    16000   Petrol  325  30.4   \n",
       "4    G Class  2016  73948    Automatic     4000   Petrol  325  30.1   \n",
       "\n",
       "   engineSize  \n",
       "0         1.8  \n",
       "1         2.1  \n",
       "2         5.5  \n",
       "3         4.0  \n",
       "4         4.0  "
      ]
     },
     "execution_count": 2,
     "metadata": {},
     "output_type": "execute_result"
    }
   ],
   "source": [
    "merc=pd.read_csv(\"../input/used-car-dataset-ford-and-mercedes/merc.csv\")\n",
    "merc.head()"
   ]
  },
  {
   "cell_type": "code",
   "execution_count": 3,
   "id": "320a4872",
   "metadata": {
    "execution": {
     "iopub.execute_input": "2021-09-07T19:45:18.332330Z",
     "iopub.status.busy": "2021-09-07T19:45:18.331698Z",
     "iopub.status.idle": "2021-09-07T19:45:18.336101Z",
     "shell.execute_reply": "2021-09-07T19:45:18.335479Z",
     "shell.execute_reply.started": "2021-09-07T19:29:30.005248Z"
    },
    "papermill": {
     "duration": 0.026461,
     "end_time": "2021-09-07T19:45:18.336239",
     "exception": false,
     "start_time": "2021-09-07T19:45:18.309778",
     "status": "completed"
    },
    "tags": []
   },
   "outputs": [
    {
     "data": {
      "text/plain": [
       "(13119, 9)"
      ]
     },
     "execution_count": 3,
     "metadata": {},
     "output_type": "execute_result"
    }
   ],
   "source": [
    "merc.shape"
   ]
  },
  {
   "cell_type": "code",
   "execution_count": 4,
   "id": "b56b007a",
   "metadata": {
    "execution": {
     "iopub.execute_input": "2021-09-07T19:45:18.379293Z",
     "iopub.status.busy": "2021-09-07T19:45:18.378322Z",
     "iopub.status.idle": "2021-09-07T19:45:18.382766Z",
     "shell.execute_reply": "2021-09-07T19:45:18.382122Z",
     "shell.execute_reply.started": "2021-09-07T19:29:45.234725Z"
    },
    "papermill": {
     "duration": 0.02887,
     "end_time": "2021-09-07T19:45:18.382909",
     "exception": false,
     "start_time": "2021-09-07T19:45:18.354039",
     "status": "completed"
    },
    "tags": []
   },
   "outputs": [
    {
     "data": {
      "text/plain": [
       "model            object\n",
       "year              int64\n",
       "price             int64\n",
       "transmission     object\n",
       "mileage           int64\n",
       "fuelType         object\n",
       "tax               int64\n",
       "mpg             float64\n",
       "engineSize      float64\n",
       "dtype: object"
      ]
     },
     "execution_count": 4,
     "metadata": {},
     "output_type": "execute_result"
    }
   ],
   "source": [
    "merc.dtypes"
   ]
  },
  {
   "cell_type": "code",
   "execution_count": 5,
   "id": "3357b183",
   "metadata": {
    "execution": {
     "iopub.execute_input": "2021-09-07T19:45:18.432942Z",
     "iopub.status.busy": "2021-09-07T19:45:18.432018Z",
     "iopub.status.idle": "2021-09-07T19:45:18.436470Z",
     "shell.execute_reply": "2021-09-07T19:45:18.435963Z",
     "shell.execute_reply.started": "2021-09-07T19:30:27.620855Z"
    },
    "papermill": {
     "duration": 0.035801,
     "end_time": "2021-09-07T19:45:18.436630",
     "exception": false,
     "start_time": "2021-09-07T19:45:18.400829",
     "status": "completed"
    },
    "tags": []
   },
   "outputs": [
    {
     "data": {
      "text/plain": [
       "<bound method NDFrame.describe of             model  year  price transmission  mileage fuelType  tax   mpg  \\\n",
       "0             SLK  2005   5200    Automatic    63000   Petrol  325  32.1   \n",
       "1         S Class  2017  34948    Automatic    27000   Hybrid   20  61.4   \n",
       "2        SL CLASS  2016  49948    Automatic     6200   Petrol  555  28.0   \n",
       "3         G Class  2016  61948    Automatic    16000   Petrol  325  30.4   \n",
       "4         G Class  2016  73948    Automatic     4000   Petrol  325  30.1   \n",
       "...           ...   ...    ...          ...      ...      ...  ...   ...   \n",
       "13114     C Class  2020  35999    Automatic      500   Diesel  145  55.4   \n",
       "13115     B Class  2020  24699    Automatic     2500   Diesel  145  55.4   \n",
       "13116   GLC Class  2019  30999    Automatic    11612   Diesel  145  41.5   \n",
       "13117   CLS Class  2019  37990    Automatic     2426   Diesel  145  45.6   \n",
       "13118     S Class  2019  54999    Automatic     2075   Diesel  145  52.3   \n",
       "\n",
       "       engineSize  \n",
       "0             1.8  \n",
       "1             2.1  \n",
       "2             5.5  \n",
       "3             4.0  \n",
       "4             4.0  \n",
       "...           ...  \n",
       "13114         2.0  \n",
       "13115         2.0  \n",
       "13116         2.1  \n",
       "13117         2.0  \n",
       "13118         2.9  \n",
       "\n",
       "[13119 rows x 9 columns]>"
      ]
     },
     "execution_count": 5,
     "metadata": {},
     "output_type": "execute_result"
    }
   ],
   "source": [
    "merc.describe"
   ]
  },
  {
   "cell_type": "code",
   "execution_count": 6,
   "id": "465b6679",
   "metadata": {
    "execution": {
     "iopub.execute_input": "2021-09-07T19:45:18.487913Z",
     "iopub.status.busy": "2021-09-07T19:45:18.486995Z",
     "iopub.status.idle": "2021-09-07T19:45:18.491391Z",
     "shell.execute_reply": "2021-09-07T19:45:18.490879Z",
     "shell.execute_reply.started": "2021-09-07T19:30:40.295361Z"
    },
    "papermill": {
     "duration": 0.035677,
     "end_time": "2021-09-07T19:45:18.491536",
     "exception": false,
     "start_time": "2021-09-07T19:45:18.455859",
     "status": "completed"
    },
    "tags": []
   },
   "outputs": [
    {
     "data": {
      "text/plain": [
       "<bound method DataFrame.info of             model  year  price transmission  mileage fuelType  tax   mpg  \\\n",
       "0             SLK  2005   5200    Automatic    63000   Petrol  325  32.1   \n",
       "1         S Class  2017  34948    Automatic    27000   Hybrid   20  61.4   \n",
       "2        SL CLASS  2016  49948    Automatic     6200   Petrol  555  28.0   \n",
       "3         G Class  2016  61948    Automatic    16000   Petrol  325  30.4   \n",
       "4         G Class  2016  73948    Automatic     4000   Petrol  325  30.1   \n",
       "...           ...   ...    ...          ...      ...      ...  ...   ...   \n",
       "13114     C Class  2020  35999    Automatic      500   Diesel  145  55.4   \n",
       "13115     B Class  2020  24699    Automatic     2500   Diesel  145  55.4   \n",
       "13116   GLC Class  2019  30999    Automatic    11612   Diesel  145  41.5   \n",
       "13117   CLS Class  2019  37990    Automatic     2426   Diesel  145  45.6   \n",
       "13118     S Class  2019  54999    Automatic     2075   Diesel  145  52.3   \n",
       "\n",
       "       engineSize  \n",
       "0             1.8  \n",
       "1             2.1  \n",
       "2             5.5  \n",
       "3             4.0  \n",
       "4             4.0  \n",
       "...           ...  \n",
       "13114         2.0  \n",
       "13115         2.0  \n",
       "13116         2.1  \n",
       "13117         2.0  \n",
       "13118         2.9  \n",
       "\n",
       "[13119 rows x 9 columns]>"
      ]
     },
     "execution_count": 6,
     "metadata": {},
     "output_type": "execute_result"
    }
   ],
   "source": [
    "merc.info"
   ]
  },
  {
   "cell_type": "code",
   "execution_count": 7,
   "id": "0dcf7319",
   "metadata": {
    "execution": {
     "iopub.execute_input": "2021-09-07T19:45:18.543281Z",
     "iopub.status.busy": "2021-09-07T19:45:18.542479Z",
     "iopub.status.idle": "2021-09-07T19:45:18.546988Z",
     "shell.execute_reply": "2021-09-07T19:45:18.546461Z",
     "shell.execute_reply.started": "2021-09-07T19:32:19.333206Z"
    },
    "papermill": {
     "duration": 0.036555,
     "end_time": "2021-09-07T19:45:18.547132",
     "exception": false,
     "start_time": "2021-09-07T19:45:18.510577",
     "status": "completed"
    },
    "tags": []
   },
   "outputs": [
    {
     "data": {
      "text/plain": [
       "{0: ' A Class',\n",
       " 1: ' B Class',\n",
       " 2: ' C Class',\n",
       " 3: ' CL Class',\n",
       " 4: ' CLA Class',\n",
       " 5: ' CLC Class',\n",
       " 6: ' CLK',\n",
       " 7: ' CLS Class',\n",
       " 8: ' E Class',\n",
       " 9: ' G Class',\n",
       " 10: ' GL Class',\n",
       " 11: ' GLA Class',\n",
       " 12: ' GLB Class',\n",
       " 13: ' GLC Class',\n",
       " 14: ' GLE Class',\n",
       " 15: ' GLS Class',\n",
       " 16: ' M Class',\n",
       " 17: ' R Class',\n",
       " 18: ' S Class',\n",
       " 19: ' SL CLASS',\n",
       " 20: ' SLK',\n",
       " 21: ' V Class',\n",
       " 22: ' X-CLASS',\n",
       " 23: '180',\n",
       " 24: '200',\n",
       " 25: '220',\n",
       " 26: '230'}"
      ]
     },
     "execution_count": 7,
     "metadata": {},
     "output_type": "execute_result"
    }
   ],
   "source": [
    "encoder = LabelEncoder()\n",
    "merc['model'] = encoder.fit_transform(merc['model'])\n",
    "model_mapping = {index : label for index, label in enumerate(encoder.classes_)}\n",
    "model_mapping"
   ]
  },
  {
   "cell_type": "code",
   "execution_count": 8,
   "id": "23f14071",
   "metadata": {
    "execution": {
     "iopub.execute_input": "2021-09-07T19:45:18.596983Z",
     "iopub.status.busy": "2021-09-07T19:45:18.596279Z",
     "iopub.status.idle": "2021-09-07T19:45:18.599674Z",
     "shell.execute_reply": "2021-09-07T19:45:18.599165Z",
     "shell.execute_reply.started": "2021-09-07T19:32:36.301582Z"
    },
    "papermill": {
     "duration": 0.033335,
     "end_time": "2021-09-07T19:45:18.599809",
     "exception": false,
     "start_time": "2021-09-07T19:45:18.566474",
     "status": "completed"
    },
    "tags": []
   },
   "outputs": [
    {
     "data": {
      "text/plain": [
       "{0: 'Automatic', 1: 'Manual', 2: 'Other', 3: 'Semi-Auto'}"
      ]
     },
     "execution_count": 8,
     "metadata": {},
     "output_type": "execute_result"
    }
   ],
   "source": [
    "merc['transmission'] = encoder.fit_transform(merc['transmission'])\n",
    "transmission_mapping = {index : label for index, label in enumerate(encoder.classes_)}\n",
    "transmission_mapping"
   ]
  },
  {
   "cell_type": "code",
   "execution_count": 9,
   "id": "8c5babf5",
   "metadata": {
    "execution": {
     "iopub.execute_input": "2021-09-07T19:45:18.650489Z",
     "iopub.status.busy": "2021-09-07T19:45:18.649551Z",
     "iopub.status.idle": "2021-09-07T19:45:18.653522Z",
     "shell.execute_reply": "2021-09-07T19:45:18.653047Z",
     "shell.execute_reply.started": "2021-09-07T19:32:51.111679Z"
    },
    "papermill": {
     "duration": 0.034377,
     "end_time": "2021-09-07T19:45:18.653678",
     "exception": false,
     "start_time": "2021-09-07T19:45:18.619301",
     "status": "completed"
    },
    "tags": []
   },
   "outputs": [
    {
     "data": {
      "text/plain": [
       "{0: 'Diesel', 1: 'Hybrid', 2: 'Other', 3: 'Petrol'}"
      ]
     },
     "execution_count": 9,
     "metadata": {},
     "output_type": "execute_result"
    }
   ],
   "source": [
    "merc['fuelType'] = encoder.fit_transform(merc['fuelType'])\n",
    "fuelType_mapping = {index : label for index, label in enumerate(encoder.classes_)}\n",
    "fuelType_mapping"
   ]
  },
  {
   "cell_type": "code",
   "execution_count": 10,
   "id": "66c70add",
   "metadata": {
    "execution": {
     "iopub.execute_input": "2021-09-07T19:45:18.698140Z",
     "iopub.status.busy": "2021-09-07T19:45:18.697438Z",
     "iopub.status.idle": "2021-09-07T19:45:18.702911Z",
     "shell.execute_reply": "2021-09-07T19:45:18.703380Z",
     "shell.execute_reply.started": "2021-09-07T19:33:52.471361Z"
    },
    "papermill": {
     "duration": 0.030278,
     "end_time": "2021-09-07T19:45:18.703562",
     "exception": false,
     "start_time": "2021-09-07T19:45:18.673284",
     "status": "completed"
    },
    "tags": []
   },
   "outputs": [],
   "source": [
    "x = merc.drop('price', axis=1)\n",
    "y = merc['price']"
   ]
  },
  {
   "cell_type": "code",
   "execution_count": 11,
   "id": "521562a3",
   "metadata": {
    "execution": {
     "iopub.execute_input": "2021-09-07T19:45:18.750782Z",
     "iopub.status.busy": "2021-09-07T19:45:18.750108Z",
     "iopub.status.idle": "2021-09-07T19:45:18.761889Z",
     "shell.execute_reply": "2021-09-07T19:45:18.761308Z",
     "shell.execute_reply.started": "2021-09-07T19:34:10.520247Z"
    },
    "papermill": {
     "duration": 0.038655,
     "end_time": "2021-09-07T19:45:18.762034",
     "exception": false,
     "start_time": "2021-09-07T19:45:18.723379",
     "status": "completed"
    },
    "tags": []
   },
   "outputs": [
    {
     "name": "stdout",
     "output_type": "stream",
     "text": [
      "x \n",
      " [[0.76923077 0.7        0.         0.24324032 1.         0.56034483\n",
      "  0.14338575 0.29032258]\n",
      " [0.69230769 0.94       0.         0.10424365 0.33333333 0.03448276\n",
      "  0.27890842 0.33870968]\n",
      " [0.73076923 0.92       0.         0.02393446 1.         0.95689655\n",
      "  0.12442183 0.88709677]\n",
      " [0.34615385 0.92       0.         0.06177244 1.         0.56034483\n",
      "  0.13552266 0.64516129]\n",
      " [0.34615385 0.92       0.         0.01544021 1.         0.56034483\n",
      "  0.13413506 0.64516129]\n",
      " [0.73076923 0.82       0.         0.0115792  1.         0.98275862\n",
      "  0.09389454 1.        ]\n",
      " [0.53846154 0.96       0.         0.06177244 0.         0.25\n",
      "  0.21646623 0.33870968]\n",
      " [0.69230769 0.84       0.         0.41312515 1.         0.45689655\n",
      "  0.16466235 0.56451613]\n",
      " [0.34615385 0.98       0.         0.04632836 1.         0.25\n",
      "  0.09389454 0.64516129]\n",
      " [0.42307692 0.94       0.         0.05890756 0.         0.05172414\n",
      "  0.29185939 0.33870968]]\n",
      "y \n",
      " 0      5200\n",
      "1     34948\n",
      "2     49948\n",
      "3     61948\n",
      "4     73948\n",
      "5    149948\n",
      "6     30948\n",
      "7     10948\n",
      "8    139948\n",
      "9     19750\n",
      "Name: price, dtype: int64\n"
     ]
    }
   ],
   "source": [
    "scaler = MinMaxScaler(copy=True, feature_range=(0, 1))\n",
    "X = scaler.fit_transform(x)\n",
    "\n",
    "#showing data\n",
    "print('x \\n' , X[:10])\n",
    "print('y \\n' , y[:10])"
   ]
  },
  {
   "cell_type": "code",
   "execution_count": 12,
   "id": "08d81619",
   "metadata": {
    "execution": {
     "iopub.execute_input": "2021-09-07T19:45:18.809861Z",
     "iopub.status.busy": "2021-09-07T19:45:18.809203Z",
     "iopub.status.idle": "2021-09-07T19:45:18.814928Z",
     "shell.execute_reply": "2021-09-07T19:45:18.815384Z",
     "shell.execute_reply.started": "2021-09-07T19:35:30.935761Z"
    },
    "papermill": {
     "duration": 0.032326,
     "end_time": "2021-09-07T19:45:18.815552",
     "exception": false,
     "start_time": "2021-09-07T19:45:18.783226",
     "status": "completed"
    },
    "tags": []
   },
   "outputs": [],
   "source": [
    "x_train,x_test,y_train,y_test=train_test_split(x,y,test_size=30,random_state=0)"
   ]
  },
  {
   "cell_type": "code",
   "execution_count": 13,
   "id": "6d77076b",
   "metadata": {
    "execution": {
     "iopub.execute_input": "2021-09-07T19:45:18.860298Z",
     "iopub.status.busy": "2021-09-07T19:45:18.859380Z",
     "iopub.status.idle": "2021-09-07T19:45:18.865378Z",
     "shell.execute_reply": "2021-09-07T19:45:18.864853Z",
     "shell.execute_reply.started": "2021-09-07T19:35:40.568377Z"
    },
    "papermill": {
     "duration": 0.028908,
     "end_time": "2021-09-07T19:45:18.865518",
     "exception": false,
     "start_time": "2021-09-07T19:45:18.836610",
     "status": "completed"
    },
    "tags": []
   },
   "outputs": [
    {
     "name": "stdout",
     "output_type": "stream",
     "text": [
      "x_train shape is: (13089, 8)\n"
     ]
    }
   ],
   "source": [
    "print(\"x_train shape is:\",x_train.shape)"
   ]
  },
  {
   "cell_type": "code",
   "execution_count": 14,
   "id": "7e0cda4c",
   "metadata": {
    "execution": {
     "iopub.execute_input": "2021-09-07T19:45:18.911515Z",
     "iopub.status.busy": "2021-09-07T19:45:18.910855Z",
     "iopub.status.idle": "2021-09-07T19:45:18.913387Z",
     "shell.execute_reply": "2021-09-07T19:45:18.913964Z",
     "shell.execute_reply.started": "2021-09-07T19:35:52.843565Z"
    },
    "papermill": {
     "duration": 0.027938,
     "end_time": "2021-09-07T19:45:18.914118",
     "exception": false,
     "start_time": "2021-09-07T19:45:18.886180",
     "status": "completed"
    },
    "tags": []
   },
   "outputs": [
    {
     "name": "stdout",
     "output_type": "stream",
     "text": [
      "x_test shape is: (30, 8)\n"
     ]
    }
   ],
   "source": [
    "print(\"x_test shape is:\",x_test.shape)\n"
   ]
  },
  {
   "cell_type": "code",
   "execution_count": 15,
   "id": "6722ca1f",
   "metadata": {
    "execution": {
     "iopub.execute_input": "2021-09-07T19:45:18.960403Z",
     "iopub.status.busy": "2021-09-07T19:45:18.959661Z",
     "iopub.status.idle": "2021-09-07T19:45:18.965692Z",
     "shell.execute_reply": "2021-09-07T19:45:18.964844Z",
     "shell.execute_reply.started": "2021-09-07T19:36:05.600894Z"
    },
    "papermill": {
     "duration": 0.030782,
     "end_time": "2021-09-07T19:45:18.965870",
     "exception": false,
     "start_time": "2021-09-07T19:45:18.935088",
     "status": "completed"
    },
    "tags": []
   },
   "outputs": [
    {
     "name": "stdout",
     "output_type": "stream",
     "text": [
      "y_train shape is: (13089,)\n"
     ]
    }
   ],
   "source": [
    "print(\"y_train shape is:\",y_train.shape)\n"
   ]
  },
  {
   "cell_type": "code",
   "execution_count": 16,
   "id": "ed430879",
   "metadata": {
    "execution": {
     "iopub.execute_input": "2021-09-07T19:45:19.015178Z",
     "iopub.status.busy": "2021-09-07T19:45:19.014532Z",
     "iopub.status.idle": "2021-09-07T19:45:19.018323Z",
     "shell.execute_reply": "2021-09-07T19:45:19.017483Z",
     "shell.execute_reply.started": "2021-09-07T19:36:14.065907Z"
    },
    "papermill": {
     "duration": 0.030151,
     "end_time": "2021-09-07T19:45:19.018501",
     "exception": false,
     "start_time": "2021-09-07T19:45:18.988350",
     "status": "completed"
    },
    "tags": []
   },
   "outputs": [
    {
     "name": "stdout",
     "output_type": "stream",
     "text": [
      "y_test shape is: (30,)\n"
     ]
    }
   ],
   "source": [
    "print(\"y_test shape is:\",y_test.shape)\n"
   ]
  },
  {
   "cell_type": "code",
   "execution_count": 17,
   "id": "d4b18147",
   "metadata": {
    "execution": {
     "iopub.execute_input": "2021-09-07T19:45:19.070943Z",
     "iopub.status.busy": "2021-09-07T19:45:19.070233Z",
     "iopub.status.idle": "2021-09-07T19:45:21.028450Z",
     "shell.execute_reply": "2021-09-07T19:45:21.027158Z",
     "shell.execute_reply.started": "2021-09-07T19:39:55.824892Z"
    },
    "papermill": {
     "duration": 1.987734,
     "end_time": "2021-09-07T19:45:21.028789",
     "exception": false,
     "start_time": "2021-09-07T19:45:19.041055",
     "status": "completed"
    },
    "tags": []
   },
   "outputs": [
    {
     "name": "stdout",
     "output_type": "stream",
     "text": [
      "Random Forest Regressor Train Score is :  0.9507658163107037\n",
      "Random Forest Regressor Test Score is :  0.913195119154258\n",
      "Random Forest Regressor No. of features are :  8\n",
      "----------------------------------------------------\n",
      "Predicted Value for Random Forest Regressor is :  [21455.51562599 13266.0881097  34459.59883034 40083.97499224\n",
      " 20690.63632851 17546.24938285 44605.16698856 24719.72149106\n",
      " 20269.35837227 19062.24818446]\n"
     ]
    }
   ],
   "source": [
    "RandomForestRegressorModel = RandomForestRegressor(n_estimators=100,max_depth=8, random_state=33)\n",
    "RandomForestRegressorModel.fit(x_train, y_train)\n",
    "\n",
    "print('Random Forest Regressor Train Score is : ' , RandomForestRegressorModel.score(x_train, y_train))\n",
    "print('Random Forest Regressor Test Score is : ' , RandomForestRegressorModel.score(x_test, y_test))\n",
    "print('Random Forest Regressor No. of features are : ' , RandomForestRegressorModel.n_features_)\n",
    "print('----------------------------------------------------')\n",
    "\n",
    "y_pred = RandomForestRegressorModel.predict(x_test)\n",
    "print('Predicted Value for Random Forest Regressor is : ' , y_pred[:10])"
   ]
  },
  {
   "cell_type": "code",
   "execution_count": 18,
   "id": "7ba00801",
   "metadata": {
    "execution": {
     "iopub.execute_input": "2021-09-07T19:45:21.082026Z",
     "iopub.status.busy": "2021-09-07T19:45:21.081335Z",
     "iopub.status.idle": "2021-09-07T19:45:21.136525Z",
     "shell.execute_reply": "2021-09-07T19:45:21.137079Z",
     "shell.execute_reply.started": "2021-09-07T19:41:20.782542Z"
    },
    "papermill": {
     "duration": 0.085449,
     "end_time": "2021-09-07T19:45:21.137274",
     "exception": false,
     "start_time": "2021-09-07T19:45:21.051825",
     "status": "completed"
    },
    "tags": []
   },
   "outputs": [
    {
     "name": "stdout",
     "output_type": "stream",
     "text": [
      "DecisionTreeRegressor Train Score is :  0.9819040143124543\n",
      "DecisionTreeRegressor Test Score is :  0.9114634138245683\n",
      "----------------------------------------------------\n",
      "Predicted Value for DecisionTreeRegressorModel is :  [19845.0625     12785.         38300.66666667 40320.375\n",
      " 20783.77570093 17391.76666667 45235.77272727 22544.6\n",
      " 19797.5        20386.4893617 ]\n"
     ]
    }
   ],
   "source": [
    "DecisionTreeRegressorModel = DecisionTreeRegressor( max_depth=13,random_state=33)\n",
    "DecisionTreeRegressorModel.fit(x_train, y_train)\n",
    "\n",
    "print('DecisionTreeRegressor Train Score is : ' , DecisionTreeRegressorModel.score(x_train, y_train))\n",
    "print('DecisionTreeRegressor Test Score is : ' , DecisionTreeRegressorModel.score(x_test, y_test))\n",
    "print('----------------------------------------------------')\n",
    "\n",
    "y_pred = DecisionTreeRegressorModel.predict(x_test)\n",
    "print('Predicted Value for DecisionTreeRegressorModel is : ' , y_pred[:10])"
   ]
  },
  {
   "cell_type": "code",
   "execution_count": 19,
   "id": "d95f8867",
   "metadata": {
    "execution": {
     "iopub.execute_input": "2021-09-07T19:45:21.187395Z",
     "iopub.status.busy": "2021-09-07T19:45:21.186569Z",
     "iopub.status.idle": "2021-09-07T19:45:21.190069Z",
     "shell.execute_reply": "2021-09-07T19:45:21.189468Z",
     "shell.execute_reply.started": "2021-09-07T19:43:13.241142Z"
    },
    "papermill": {
     "duration": 0.031027,
     "end_time": "2021-09-07T19:45:21.190199",
     "exception": false,
     "start_time": "2021-09-07T19:45:21.159172",
     "status": "completed"
    },
    "tags": []
   },
   "outputs": [
    {
     "name": "stdout",
     "output_type": "stream",
     "text": [
      "Mean Squared Error Value is :  9463703.049079943\n"
     ]
    }
   ],
   "source": [
    "MSEValue = mean_squared_error(y_test, y_pred, multioutput='uniform_average') # it can be raw_values\n",
    "print('Mean Squared Error Value is : ', MSEValue)"
   ]
  },
  {
   "cell_type": "code",
   "execution_count": null,
   "id": "8c4fcfac",
   "metadata": {
    "papermill": {
     "duration": 0.022595,
     "end_time": "2021-09-07T19:45:21.236416",
     "exception": false,
     "start_time": "2021-09-07T19:45:21.213821",
     "status": "completed"
    },
    "tags": []
   },
   "outputs": [],
   "source": []
  }
 ],
 "metadata": {
  "kernelspec": {
   "display_name": "Python 3",
   "language": "python",
   "name": "python3"
  },
  "language_info": {
   "codemirror_mode": {
    "name": "ipython",
    "version": 3
   },
   "file_extension": ".py",
   "mimetype": "text/x-python",
   "name": "python",
   "nbconvert_exporter": "python",
   "pygments_lexer": "ipython3",
   "version": "3.7.10"
  },
  "papermill": {
   "default_parameters": {},
   "duration": 13.842998,
   "end_time": "2021-09-07T19:45:22.833724",
   "environment_variables": {},
   "exception": null,
   "input_path": "__notebook__.ipynb",
   "output_path": "__notebook__.ipynb",
   "parameters": {},
   "start_time": "2021-09-07T19:45:08.990726",
   "version": "2.3.3"
  }
 },
 "nbformat": 4,
 "nbformat_minor": 5
}
